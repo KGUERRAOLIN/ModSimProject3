{
 "cells": [
  {
   "cell_type": "markdown",
   "metadata": {},
   "source": [
    "# Spinning Earth due to an Asteroid Impact\n",
    "\n",
    "ModSim Project 3\n",
    "\n",
    "Kristtiya Guerra, HK Rho"
   ]
  },
  {
   "cell_type": "code",
   "execution_count": 229,
   "metadata": {},
   "outputs": [],
   "source": [
    "# Configure Jupyter so figures appear in the notebook\n",
    "%matplotlib inline\n",
    "\n",
    "# Configure Jupyter to display the assigned value after an assignment\n",
    "%config InteractiveShell.ast_node_interactivity='last_expr_or_assign'\n",
    "\n",
    "# import functions from the modsim library\n",
    "from modsim import *\n",
    "import random\n",
    "import decimal\n",
    "import math"
   ]
  },
  {
   "cell_type": "markdown",
   "metadata": {},
   "source": [
    "# First Part - Until Collision"
   ]
  },
  {
   "cell_type": "markdown",
   "metadata": {},
   "source": []
  },
  {
   "cell_type": "code",
   "execution_count": 230,
   "metadata": {},
   "outputs": [
    {
     "data": {
      "text/html": [
       "<div>\n",
       "<style scoped>\n",
       "    .dataframe tbody tr th:only-of-type {\n",
       "        vertical-align: middle;\n",
       "    }\n",
       "\n",
       "    .dataframe tbody tr th {\n",
       "        vertical-align: top;\n",
       "    }\n",
       "\n",
       "    .dataframe thead th {\n",
       "        text-align: right;\n",
       "    }\n",
       "</style>\n",
       "<table border=\"1\" class=\"dataframe\">\n",
       "  <thead>\n",
       "    <tr style=\"text-align: right;\">\n",
       "      <th></th>\n",
       "      <th>values</th>\n",
       "    </tr>\n",
       "  </thead>\n",
       "  <tbody>\n",
       "    <tr>\n",
       "      <th>m_earth</th>\n",
       "      <td>5.972e+24</td>\n",
       "    </tr>\n",
       "    <tr>\n",
       "      <th>r_earth</th>\n",
       "      <td>6.371e+06</td>\n",
       "    </tr>\n",
       "    <tr>\n",
       "      <th>c_earth</th>\n",
       "      <td>4.0075e+07</td>\n",
       "    </tr>\n",
       "    <tr>\n",
       "      <th>Vol_earth</th>\n",
       "      <td>1.08321e+21</td>\n",
       "    </tr>\n",
       "    <tr>\n",
       "      <th>density_asteroid</th>\n",
       "      <td>3000</td>\n",
       "    </tr>\n",
       "    <tr>\n",
       "      <th>G</th>\n",
       "      <td>6.674e-11</td>\n",
       "    </tr>\n",
       "    <tr>\n",
       "      <th>m_asteroid</th>\n",
       "      <td>50</td>\n",
       "    </tr>\n",
       "    <tr>\n",
       "      <th>r_asteroid</th>\n",
       "      <td>25</td>\n",
       "    </tr>\n",
       "    <tr>\n",
       "      <th>init_w_earth</th>\n",
       "      <td>7.29212e-05</td>\n",
       "    </tr>\n",
       "    <tr>\n",
       "      <th>striking_angle</th>\n",
       "      <td>45</td>\n",
       "    </tr>\n",
       "    <tr>\n",
       "      <th>init</th>\n",
       "      <td>x      464000000.0\n",
       "y              0.0\n",
       "v_x     ...</td>\n",
       "    </tr>\n",
       "    <tr>\n",
       "      <th>r_final</th>\n",
       "      <td>6.37102e+06</td>\n",
       "    </tr>\n",
       "    <tr>\n",
       "      <th>t_0</th>\n",
       "      <td>0</td>\n",
       "    </tr>\n",
       "    <tr>\n",
       "      <th>t_end</th>\n",
       "      <td>1e+100</td>\n",
       "    </tr>\n",
       "  </tbody>\n",
       "</table>\n",
       "</div>"
      ],
      "text/plain": [
       "m_earth                                                     5.972e+24\n",
       "r_earth                                                     6.371e+06\n",
       "c_earth                                                    4.0075e+07\n",
       "Vol_earth                                                 1.08321e+21\n",
       "density_asteroid                                                 3000\n",
       "G                                                           6.674e-11\n",
       "m_asteroid                                                         50\n",
       "r_asteroid                                                         25\n",
       "init_w_earth                                              7.29212e-05\n",
       "striking_angle                                                     45\n",
       "init                x      464000000.0\n",
       "y              0.0\n",
       "v_x     ...\n",
       "r_final                                                   6.37102e+06\n",
       "t_0                                                                 0\n",
       "t_end                                                          1e+100\n",
       "dtype: object"
      ]
     },
     "execution_count": 230,
     "metadata": {},
     "output_type": "execute_result"
    }
   ],
   "source": [
    "# Making a state & system object\n",
    "x0 = 4.64e8 #m\n",
    "y0 = 0 #m\n",
    "r0 = 25\n",
    "\n",
    "# And an inition condition (with everything in SI units)\n",
    "init = State(\n",
    "             x = x0, #meters\n",
    "             y = y0, #meters\n",
    "             v_x = 25000, # m/s - X Velocity of Asteroid\n",
    "             v_y = 0, # m/s - Y Velocity of Asteroid\n",
    "             )\n",
    "\n",
    "\n",
    "system = System(m_earth = 5.972e24, # kg\n",
    "                r_earth = 6.371e6, # m\n",
    "                c_earth = 40.075e6, # m \n",
    "                Vol_earth = 1.08320692e21, # m^3\n",
    "                density_asteroid = 3000, # kg / m^3\n",
    "                G=6.674e-11, # N / kg**2 * m**2\n",
    "                m_asteroid = 50,\n",
    "                r_asteroid = r0, # m\n",
    "                init_w_earth = 7.2921159e-5, # rad/sec\n",
    "                \n",
    "                striking_angle = 45, #degree\n",
    "                init=init,\n",
    "                r_final=r_asteroid + r_earth,\n",
    "                t_0=0, # s,\n",
    "                t_end=1e100 # s\n",
    "                )\n"
   ]
  },
  {
   "cell_type": "code",
   "execution_count": 231,
   "metadata": {},
   "outputs": [],
   "source": [
    "def universal_gravitation(init, system):\n",
    "    \"\"\"Computes gravitational force between Asteroid and Earth.\n",
    "    \"\"\"\n",
    "    x, y, v_x, v_y = init\n",
    "    unpack(system)\n",
    "\n",
    "    forceMag = G * m_earth * m_asteroid / (x**2 + y**2)\n",
    "    #negative because it is positive outwards (distance increases as I go out)\n",
    "    r = Vector(-x, -y)\n",
    "    gravity = forceMag * r.hat()\n",
    "    \n",
    "    return gravity"
   ]
  },
  {
   "cell_type": "code",
   "execution_count": 232,
   "metadata": {},
   "outputs": [
    {
     "data": {
      "text/html": [
       "[-0.09256356 -0.        ] dimensionless"
      ],
      "text/latex": [
       "$[-0.09256356 -0.        ] dimensionless$"
      ],
      "text/plain": [
       "<Quantity([-0.09256356 -0.        ], 'dimensionless')>"
      ]
     },
     "execution_count": 232,
     "metadata": {},
     "output_type": "execute_result"
    }
   ],
   "source": [
    "universal_gravitation(init, system)"
   ]
  },
  {
   "cell_type": "code",
   "execution_count": 233,
   "metadata": {},
   "outputs": [],
   "source": [
    "def slope_func(init, dt, system):\n",
    "    x, y, v_x, v_y = init\n",
    "\n",
    "    unpack(system)\n",
    "    \n",
    "    gravity = universal_gravitation(init, system)\n",
    "    dxdt = v_x\n",
    "    dydt = v_y\n",
    "    dvxdt = gravity[0]/ m_asteroid\n",
    "    dvydt = gravity[1]/ m_asteroid\n",
    "    \n",
    "    return dxdt, dydt, dvxdt, dvydt"
   ]
  },
  {
   "cell_type": "code",
   "execution_count": 234,
   "metadata": {},
   "outputs": [
    {
     "data": {
      "text/plain": [
       "(25000.0,\n",
       " 0.0,\n",
       " <Quantity(-0.0018512711801426873, 'dimensionless')>,\n",
       " <Quantity(-0.0, 'dimensionless')>)"
      ]
     },
     "execution_count": 234,
     "metadata": {},
     "output_type": "execute_result"
    }
   ],
   "source": [
    "slope_func(init, 0, system)"
   ]
  },
  {
   "cell_type": "code",
   "execution_count": 235,
   "metadata": {},
   "outputs": [],
   "source": [
    "def event_func(init, dt, system):\n",
    "    x, y, v_x, v_y = init\n",
    "    r = Vector(x,y)\n",
    "    \n",
    "    return r.mag - system.r_final # m"
   ]
  },
  {
   "cell_type": "code",
   "execution_count": 236,
   "metadata": {},
   "outputs": [
    {
     "data": {
      "text/html": [
       "457628975.0 dimensionless"
      ],
      "text/latex": [
       "$457628975.0 dimensionless$"
      ],
      "text/plain": [
       "<Quantity(457628975.0, 'dimensionless')>"
      ]
     },
     "execution_count": 236,
     "metadata": {},
     "output_type": "execute_result"
    }
   ],
   "source": [
    "event_func(init, 0, system)"
   ]
  },
  {
   "cell_type": "code",
   "execution_count": 237,
   "metadata": {},
   "outputs": [
    {
     "data": {
      "text/html": [
       "<div>\n",
       "<style scoped>\n",
       "    .dataframe tbody tr th:only-of-type {\n",
       "        vertical-align: middle;\n",
       "    }\n",
       "\n",
       "    .dataframe tbody tr th {\n",
       "        vertical-align: top;\n",
       "    }\n",
       "\n",
       "    .dataframe thead th {\n",
       "        text-align: right;\n",
       "    }\n",
       "</style>\n",
       "<table border=\"1\" class=\"dataframe\">\n",
       "  <thead>\n",
       "    <tr style=\"text-align: right;\">\n",
       "      <th></th>\n",
       "      <th>values</th>\n",
       "    </tr>\n",
       "  </thead>\n",
       "  <tbody>\n",
       "    <tr>\n",
       "      <th>sol</th>\n",
       "      <td>None</td>\n",
       "    </tr>\n",
       "    <tr>\n",
       "      <th>t_events</th>\n",
       "      <td>[[]]</td>\n",
       "    </tr>\n",
       "    <tr>\n",
       "      <th>nfev</th>\n",
       "      <td>620</td>\n",
       "    </tr>\n",
       "    <tr>\n",
       "      <th>njev</th>\n",
       "      <td>0</td>\n",
       "    </tr>\n",
       "    <tr>\n",
       "      <th>nlu</th>\n",
       "      <td>0</td>\n",
       "    </tr>\n",
       "    <tr>\n",
       "      <th>status</th>\n",
       "      <td>0</td>\n",
       "    </tr>\n",
       "    <tr>\n",
       "      <th>message</th>\n",
       "      <td>The solver successfully reached the end of the...</td>\n",
       "    </tr>\n",
       "    <tr>\n",
       "      <th>success</th>\n",
       "      <td>True</td>\n",
       "    </tr>\n",
       "  </tbody>\n",
       "</table>\n",
       "</div>"
      ],
      "text/plain": [
       "sol                                                      None\n",
       "t_events                                                 [[]]\n",
       "nfev                                                      620\n",
       "njev                                                        0\n",
       "nlu                                                         0\n",
       "status                                                      0\n",
       "message     The solver successfully reached the end of the...\n",
       "success                                                  True\n",
       "dtype: object"
      ]
     },
     "execution_count": 237,
     "metadata": {},
     "output_type": "execute_result"
    }
   ],
   "source": [
    "results, details = run_ode_solver(system, slope_func, events=event_func)\n",
    "details"
   ]
  },
  {
   "cell_type": "code",
   "execution_count": 238,
   "metadata": {},
   "outputs": [
    {
     "data": {
      "text/plain": [
       "[<matplotlib.lines.Line2D at 0x1db21096320>]"
      ]
     },
     "execution_count": 238,
     "metadata": {},
     "output_type": "execute_result"
    },
    {
     "data": {
      "image/png": "[encoded data removed]",
      "text/plain": [
       "<Figure size 432x288 with 1 Axes>"
      ]
     },
     "metadata": {},
     "output_type": "display_data"
    }
   ],
   "source": [
    "plot(results.x)"
   ]
  },
  {
   "cell_type": "markdown",
   "metadata": {},
   "source": [
    "# Second Part - Math"
   ]
  },
  {
   "cell_type": "code",
   "execution_count": 137,
   "metadata": {},
   "outputs": [],
   "source": [
    "\"\"\"\n",
    "Function that converts:\n",
    "Diameter of the asteroid -> Volume of the asteroid\n",
    "Volume of the asteroid -> Mass of the asteroid\n",
    "\"\"\"\n",
    "\n",
    "def D_to_mass(D_asteroid, system):\n",
    "    unpack(system)\n",
    "    \n",
    "    volume_asteroid = 4/3 * pi * (D_asteroid/2)**3\n",
    "    m_asteroid = density_asteroid * volume_asteroid\n",
    "    \n",
    "    return m_asteroid"
   ]
  },
  {
   "cell_type": "code",
   "execution_count": 140,
   "metadata": {},
   "outputs": [],
   "source": [
    "\"\"\"\n",
    "Function that converts:\n",
    "energy from the asteroid -> angular velocity of the earth\n",
    "\"\"\"\n",
    "\n",
    "def energy_to_velocity(D_asteroid, system, init):\n",
    "    r_asteroid = D_asteroid / 2\n",
    "    unpack(system)\n",
    "    \n",
    "    inertia_earth = 2/5 * m_earth * (r_earth**2)\n",
    "    inertia_both = (2/5 * m_earth * (r_earth**2)) + (2/5 * m_asteroid * (r_asteroid**2))\n",
    "    \n",
    "    final_w_earth = sqrt((m_asteroid * (v_asteroid**2)) + (inertia_earth * (init_w_earth**2)) / inertia_both) \n",
    "    \n",
    "    return final_w_earth #rad/sec"
   ]
  },
  {
   "cell_type": "code",
   "execution_count": 141,
   "metadata": {},
   "outputs": [],
   "source": [
    "def time_for_revolution(w_earth, system):\n",
    "    unpack(system)\n",
    "    \n",
    "    time = c_earth / (w_earth * r_earth)\n",
    "    \n",
    "    return time"
   ]
  },
  {
   "cell_type": "code",
   "execution_count": 8,
   "metadata": {},
   "outputs": [],
   "source": [
    "def event_func_day():\n",
    "    \n",
    "    return dist_traveled - 40.075e6 # m"
   ]
  },
  {
   "cell_type": "code",
   "execution_count": 9,
   "metadata": {},
   "outputs": [
    {
     "name": "stdout",
     "output_type": "stream",
     "text": [
      "[1.57079633e+09 1.25663706e+10 4.24115008e+10 1.00530965e+11\n",
      " 1.96349541e+11 3.39292007e+11 5.38783140e+11 8.04247719e+11\n",
      " 1.14511052e+12 1.57079633e+12 2.09072991e+12 2.71433605e+12\n",
      " 3.45103953e+12 4.31026512e+12 5.30143760e+12 6.43398175e+12\n",
      " 7.71732235e+12 9.16088418e+12 1.07740920e+13 1.25663706e+13\n",
      " 1.45471448e+13 1.67258393e+13 1.91118789e+13 2.17146884e+13\n",
      " 2.45436926e+13 2.76083162e+13 3.09179841e+13 3.44821210e+13\n",
      " 3.83101516e+13 4.24115008e+13 4.67955934e+13 5.14718540e+13\n",
      " 5.64497076e+13 6.17385788e+13 6.73478925e+13 7.32870734e+13\n",
      " 7.95655463e+13 8.61927360e+13 9.31780673e+13 1.00530965e+14\n",
      " 1.08260854e+14 1.16377158e+14 1.24889304e+14 1.33806714e+14\n",
      " 1.43138815e+14 1.52895031e+14 1.63084787e+14 1.73717507e+14\n",
      " 1.84802617e+14 1.96349541e+14]\n"
     ]
    }
   ],
   "source": [
    "# And an inition condition (with everything in SI units)\n",
    "\n",
    "dD = 100 # m in diameter\n",
    "D_asteroid = linrange(100, 5000, dD, endpoint = True) # m in diameter\n",
    "\n",
    "\n",
    "sweepMass = SweepSeries()\n",
    "\n",
    "for i in range(len(D_asteroid)):\n",
    "    sweepMass[D_asteroid[i]] = D_to_mass(D_asteroid, system) #convert this to mass and store it as mass\n",
    "print(sweepMass[D_asteroid[i]])"
   ]
  },
  {
   "cell_type": "markdown",
   "metadata": {},
   "source": [
    "for i in range(len(sweepMass)):\n",
    "    state = State(init=,init, new_m_asteroid = sweepMass[i])\n",
    "    final_w = energy_to_velocity(D_asteroid, system, state)\n",
    "    \n",
    "    time_for_revolution(final_w, system)\n",
    "    print time_for_revolution"
   ]
  },
  {
   "cell_type": "code",
   "execution_count": null,
   "metadata": {},
   "outputs": [],
   "source": []
  }
 ],
 "metadata": {
  "kernelspec": {
   "display_name": "Python 3",
   "language": "python",
   "name": "python3"
  },
  "language_info": {
   "codemirror_mode": {
    "name": "ipython",
    "version": 3
   },
   "file_extension": ".py",
   "mimetype": "text/x-python",
   "name": "python",
   "nbconvert_exporter": "python",
   "pygments_lexer": "ipython3",
   "version": "3.6.6"
  }
 },
 "nbformat": 4,
 "nbformat_minor": 2
}
