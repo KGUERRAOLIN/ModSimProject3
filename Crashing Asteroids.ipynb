{
 "cells": [
  {
   "cell_type": "markdown",
   "metadata": {},
   "source": [
    "# Spinning Earth due to an Asteroid Impact\n",
    "\n",
    "ModSim Project 3\n",
    "\n",
    "Kristtiya Guerra, HK Rho"
   ]
  },
  {
   "cell_type": "code",
   "execution_count": null,
   "metadata": {},
   "outputs": [],
   "source": [
    "# Configure Jupyter so figures appear in the notebook\n",
    "%matplotlib inline\n",
    "\n",
    "# Configure Jupyter to display the assigned value after an assignment\n",
    "%config InteractiveShell.ast_node_interactivity='last_expr_or_assign'\n",
    "\n",
    "# import functions from the modsim library\n",
    "from modsim import *\n",
    "import random\n",
    "import decimal"
   ]
  },
  {
   "cell_type": "code",
   "execution_count": null,
   "metadata": {},
   "outputs": [],
   "source": [
    "#Earth is spinning(stationary) and the asteroid impacts at known place&angle\n",
    "#sweep through the size of the asteroid changing the spin \n",
    "#should I go over the derivative of angular rotation?????\n",
    "\n",
    "#speed and mass of the asteroid determines the effect it will cause on Earth's rotation\n",
    "\n",
    "# 1. choose a place to observe the time (maybe at the equator?)\n",
    "# 2. "
   ]
  },
  {
   "cell_type": "code",
   "execution_count": null,
   "metadata": {},
   "outputs": [],
   "source": [
    "\"\"\"\n",
    "Function that converts:\n",
    "Diameter of the asteroid -> Volume of the asteroid\n",
    "Volume of the asteroid -> Mass of the asteroid\n",
    "\"\"\"\n",
    "\n",
    "def D_to_mass(D_asteroid, system):\n",
    "    unpack(system)\n",
    "    \n",
    "    volume_asteroid = 4/3 * pi * (D_asteroid/2)**3\n",
    "    m_asteroid = density_asteroid * volume_asteroid\n",
    "    \n",
    "    return m_asteroid"
   ]
  },
  {
   "cell_type": "code",
   "execution_count": null,
   "metadata": {},
   "outputs": [],
   "source": [
    "def force_to_torque():\n",
    "    \n",
    "    \n",
    "    \n",
    "    return torque_on_earth"
   ]
  },
  {
   "cell_type": "code",
   "execution_count": null,
   "metadata": {},
   "outputs": [],
   "source": [
    "# And an inition condition (with everything in SI units)\n",
    "\n",
    "Vol_earth = 6.371e6 # m\n",
    "dD = 10 # m in diameter\n",
    "D_asteroid = linrange(50, 5000, dD, endpoint = True) # m in diameter\n",
    "\n",
    "sweepMass = SweepSeries()\n",
    "sweepMass[D_asteroid] = Vol_to_mass(D_asteroid, system) #convert this to mass and store it as mass\n",
    "\n",
    "init = State(m_asteroid = sweepMass[0]\n",
    "             rotation_speed = 16/36 # km/s\n",
    "             )"
   ]
  },
  {
   "cell_type": "code",
   "execution_count": null,
   "metadata": {},
   "outputs": [],
   "source": [
    "# Making a system object\n",
    "\n",
    "system = System(m_earth = 5.972e24, # kg\n",
    "                density_asteroid = 2000, # kg / m^3\n",
    "                v_asteroid = 25000 # m/s\n",
    "                \n",
    "    \n",
    "    \n",
    "                init=init,\n",
    "                r_final=r_asteroid + r_earth,\n",
    "                t_0=0 # s,\n",
    "                t_end=1e9 # s)"
   ]
  }
 ],
 "metadata": {
  "kernelspec": {
   "display_name": "Python 3",
   "language": "python",
   "name": "python3"
  },
  "language_info": {
   "codemirror_mode": {
    "name": "ipython",
    "version": 3
   },
   "file_extension": ".py",
   "mimetype": "text/x-python",
   "name": "python",
   "nbconvert_exporter": "python",
   "pygments_lexer": "ipython3",
   "version": "3.6.6"
  }
 },
 "nbformat": 4,
 "nbformat_minor": 2
}
